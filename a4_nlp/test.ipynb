{
 "cells": [
  {
   "cell_type": "code",
   "execution_count": 1,
   "metadata": {},
   "outputs": [],
   "source": [
    "import random\n",
    "import json\n",
    "\n",
    "def get_sample(X: dict, y: list) -> dict:\n",
    "\n",
    "    attributes = list(X.keys())\n",
    "    \n",
    "    num_selected_attr = int(0.7 * len(attributes))\n",
    "\n",
    "    selected_attributes = random.sample(attributes, num_selected_attr)\n",
    "\n",
    "    selected_X = {attr: X[attr] for attr in selected_attributes}\n",
    "    selected_y = y\n",
    "    \n",
    "    bootstrap_sample_X = {}\n",
    "    bootstrap_sample_y = []\n",
    "    num_data_points = len(y)\n",
    "    for _ in range(num_data_points):\n",
    "        index = random.randint(0, num_data_points - 1)\n",
    "        bootstrap_sample_y.append(selected_y[index])\n",
    "\n",
    "        for attr in selected_attributes:\n",
    "            if attr not in bootstrap_sample_X:\n",
    "                bootstrap_sample_X[attr] = []\n",
    "            bootstrap_sample_X[attr].append(selected_X[attr][index])\n",
    "\n",
    "    return bootstrap_sample_X, bootstrap_sample_y\n"
   ]
  },
  {
   "cell_type": "code",
   "execution_count": 2,
   "metadata": {},
   "outputs": [],
   "source": [
    "def count_tokens(tokens:list, columns:list=None) -> tuple:\n",
    "    '''Converts the provided tokenized texts to a bag of words.\n",
    "\n",
    "    inputs:\n",
    "        tokens:     list[str] of texts to be tokenized.\n",
    "\n",
    "        columns:    list of allowed feature names.\n",
    "\n",
    "    \n",
    "    returns: a lists of tokens for each of the texts.\n",
    "    '''\n",
    "    if columns is None:\n",
    "        columns = []\n",
    "        for entry in tokens: columns.extend(entry)\n",
    "        columns = list(set(columns))\n",
    "        print(f\"Found {len(columns):d} unique tokens.\")\n",
    "\n",
    "    result = {column:[0]*len(tokens) for column in columns}\n",
    "    for i,entry in enumerate(tokens):\n",
    "        for token in entry:\n",
    "            if token in result:\n",
    "                result[token][i] += 1\n",
    "\n",
    "    return result"
   ]
  },
  {
   "cell_type": "code",
   "execution_count": null,
   "metadata": {},
   "outputs": [],
   "source": [
    "with open('movies.json', 'r') as file:\n",
    "    data = json.load(file)\n",
    "\n",
    "X_train = data['text'][:1600]\n",
    "y_train = data['class'][:1600]\n",
    "\n",
    "X_test  = data['text'][1600:]\n",
    "y_test  = data['class'][1600:]\n",
    "\n",
    "X_train = [text.split() for text in X_train]\n",
    "X_test  = [text.split() for text in X_test]\n",
    "\n",
    "# create bag of words:\n",
    "X_train = count_tokens(X_train)\n",
    "X_test  = count_tokens(X_test, columns=list(X_train.keys()))\n",
    "\n",
    "bootstrap_sample_X, bootstrap_sample_y = get_sample(X_test, y_test)\n",
    "print(bootstrap_sample_X)"
   ]
  }
 ],
 "metadata": {
  "kernelspec": {
   "display_name": "Python 3",
   "language": "python",
   "name": "python3"
  },
  "language_info": {
   "codemirror_mode": {
    "name": "ipython",
    "version": 3
   },
   "file_extension": ".py",
   "mimetype": "text/x-python",
   "name": "python",
   "nbconvert_exporter": "python",
   "pygments_lexer": "ipython3",
   "version": "3.10.6"
  }
 },
 "nbformat": 4,
 "nbformat_minor": 2
}
