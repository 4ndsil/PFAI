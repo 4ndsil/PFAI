{
 "cells": [
  {
   "cell_type": "code",
   "execution_count": 5,
   "metadata": {},
   "outputs": [
    {
     "name": "stdout",
     "output_type": "stream",
     "text": [
      "DFS\n",
      "Start state: \n",
      "----------------------------\n",
      " #miss on left bank:  0\n",
      " #cann on left bank:  0\n",
      "            boat is:  r\n",
      "#miss on right bank:  3\n",
      "#cann on right bank:  3\n",
      "----------------------------\n"
     ]
    },
    {
     "ename": "TypeError",
     "evalue": "'bool' object is not subscriptable",
     "output_type": "error",
     "traceback": [
      "\u001b[1;31m---------------------------------------------------------------------------\u001b[0m",
      "\u001b[1;31mTypeError\u001b[0m                                 Traceback (most recent call last)",
      "\u001b[1;32mc:\\Users\\andre\\OneDrive\\Dokument\\Skolmaterial\\23ht\\PFAI\\Labbar\\Assignment_1\\assignment_1.ipynb Cell 1\u001b[0m in \u001b[0;36m<cell line: 18>\u001b[1;34m()\u001b[0m\n\u001b[0;32m     <a href='vscode-notebook-cell:/c%3A/Users/andre/OneDrive/Dokument/Skolmaterial/23ht/PFAI/Labbar/Assignment_1/assignment_1.ipynb#W0sZmlsZQ%3D%3D?line=15'>16</a>\u001b[0m \u001b[39mprint\u001b[39m(\u001b[39m'\u001b[39m\u001b[39mStart state: \u001b[39m\u001b[39m'\u001b[39m)\n\u001b[0;32m     <a href='vscode-notebook-cell:/c%3A/Users/andre/OneDrive/Dokument/Skolmaterial/23ht/PFAI/Labbar/Assignment_1/assignment_1.ipynb#W0sZmlsZQ%3D%3D?line=16'>17</a>\u001b[0m mc\u001b[39m.\u001b[39mpretty_print()\n\u001b[1;32m---> <a href='vscode-notebook-cell:/c%3A/Users/andre/OneDrive/Dokument/Skolmaterial/23ht/PFAI/Labbar/Assignment_1/assignment_1.ipynb#W0sZmlsZQ%3D%3D?line=17'>18</a>\u001b[0m goal_node \u001b[39m=\u001b[39m sa\u001b[39m.\u001b[39;49mdfs(verbose\u001b[39m=\u001b[39;49m\u001b[39mTrue\u001b[39;49;00m, depth_limit\u001b[39m=\u001b[39;49m\u001b[39mNone\u001b[39;49;00m, statistics\u001b[39m=\u001b[39;49m\u001b[39mTrue\u001b[39;49;00m)\n\u001b[0;32m     <a href='vscode-notebook-cell:/c%3A/Users/andre/OneDrive/Dokument/Skolmaterial/23ht/PFAI/Labbar/Assignment_1/assignment_1.ipynb#W0sZmlsZQ%3D%3D?line=18'>19</a>\u001b[0m \u001b[39mprint\u001b[39m(\u001b[39m'\u001b[39m\u001b[39mgoal state: \u001b[39m\u001b[39m'\u001b[39m)\n\u001b[0;32m     <a href='vscode-notebook-cell:/c%3A/Users/andre/OneDrive/Dokument/Skolmaterial/23ht/PFAI/Labbar/Assignment_1/assignment_1.ipynb#W0sZmlsZQ%3D%3D?line=19'>20</a>\u001b[0m goal_node\u001b[39m.\u001b[39mstate\u001b[39m.\u001b[39mpretty_print()\n",
      "File \u001b[1;32mc:\\Users\\andre\\OneDrive\\Dokument\\Skolmaterial\\23ht\\PFAI\\Labbar\\Assignment_1\\node_and_search.py:114\u001b[0m, in \u001b[0;36mSearchAlgorithm.dfs\u001b[1;34m(self, depth_limit, verbose, statistics)\u001b[0m\n\u001b[0;32m    112\u001b[0m         \u001b[39mself\u001b[39m\u001b[39m.\u001b[39mstatistics()\n\u001b[0;32m    113\u001b[0m     \u001b[39mreturn\u001b[39;00m curr_node\n\u001b[1;32m--> 114\u001b[0m successor \u001b[39m=\u001b[39m curr_node\u001b[39m.\u001b[39;49msuccessor()\n\u001b[0;32m    115\u001b[0m \u001b[39mprint\u001b[39m(successor\u001b[39m.\u001b[39mqsize())\n\u001b[0;32m    116\u001b[0m \u001b[39mwhile\u001b[39;00m \u001b[39mnot\u001b[39;00m successor\u001b[39m.\u001b[39mempty():\n",
      "File \u001b[1;32mc:\\Users\\andre\\OneDrive\\Dokument\\Skolmaterial\\23ht\\PFAI\\Labbar\\Assignment_1\\node_and_search.py:33\u001b[0m, in \u001b[0;36mNode.successor\u001b[1;34m(self)\u001b[0m\n\u001b[0;32m     31\u001b[0m successors \u001b[39m=\u001b[39m queue\u001b[39m.\u001b[39mQueue()\n\u001b[0;32m     32\u001b[0m \u001b[39mfor\u001b[39;00m action \u001b[39min\u001b[39;00m \u001b[39mself\u001b[39m\u001b[39m.\u001b[39mstate\u001b[39m.\u001b[39maction:\n\u001b[1;32m---> 33\u001b[0m     child \u001b[39m=\u001b[39m \u001b[39mself\u001b[39;49m\u001b[39m.\u001b[39;49mstate\u001b[39m.\u001b[39;49mmove(action)\n\u001b[0;32m     34\u001b[0m     \u001b[39mif\u001b[39;00m child \u001b[39m!=\u001b[39m \u001b[39mNone\u001b[39;00m:\n\u001b[0;32m     35\u001b[0m         childNode \u001b[39m=\u001b[39m Node(child, \u001b[39mself\u001b[39m\u001b[39m.\u001b[39mcost \u001b[39m+\u001b[39m \u001b[39m1\u001b[39m, \u001b[39mself\u001b[39m, action)\n",
      "File \u001b[1;32mc:\\Users\\andre\\OneDrive\\Dokument\\Skolmaterial\\23ht\\PFAI\\Labbar\\Assignment_1\\missionaries_and_cannibals.py:25\u001b[0m, in \u001b[0;36mMissionariesAndCannibals.move\u001b[1;34m(self, move)\u001b[0m\n\u001b[0;32m     23\u001b[0m \u001b[39mif\u001b[39;00m move \u001b[39m==\u001b[39m \u001b[39m'\u001b[39m\u001b[39mmm\u001b[39m\u001b[39m'\u001b[39m:\n\u001b[0;32m     24\u001b[0m     dc \u001b[39m=\u001b[39m deepcopy(\u001b[39mself\u001b[39m)\n\u001b[1;32m---> 25\u001b[0m     \u001b[39mif\u001b[39;00m dc\u001b[39m.\u001b[39;49mmm():\n\u001b[0;32m     26\u001b[0m         \u001b[39mreturn\u001b[39;00m dc\n\u001b[0;32m     27\u001b[0m \u001b[39melif\u001b[39;00m move \u001b[39m==\u001b[39m \u001b[39m'\u001b[39m\u001b[39mmc\u001b[39m\u001b[39m'\u001b[39m:\n",
      "File \u001b[1;32mc:\\Users\\andre\\OneDrive\\Dokument\\Skolmaterial\\23ht\\PFAI\\Labbar\\Assignment_1\\missionaries_and_cannibals.py:45\u001b[0m, in \u001b[0;36mMissionariesAndCannibals.mm\u001b[1;34m(self)\u001b[0m\n\u001b[0;32m     44\u001b[0m \u001b[39mdef\u001b[39;00m \u001b[39mmm\u001b[39m(\u001b[39mself\u001b[39m):\n\u001b[1;32m---> 45\u001b[0m     left_bank \u001b[39m=\u001b[39m \u001b[39mself\u001b[39;49m\u001b[39m.\u001b[39;49mstate[\u001b[39m0\u001b[39;49m]\n\u001b[0;32m     46\u001b[0m     boat \u001b[39m=\u001b[39m \u001b[39mself\u001b[39m\u001b[39m.\u001b[39mstate[\u001b[39m1\u001b[39m]\n\u001b[0;32m     47\u001b[0m     right_bank \u001b[39m=\u001b[39m \u001b[39mself\u001b[39m\u001b[39m.\u001b[39mstate[\u001b[39m2\u001b[39m]\n",
      "\u001b[1;31mTypeError\u001b[0m: 'bool' object is not subscriptable"
     ]
    }
   ],
   "source": [
    "'''\n",
    "Define problem and start execution of search problems\n",
    "\n",
    "Author: Tony Lindgren\n",
    "'''\n",
    "\n",
    "from missionaries_and_cannibals import MissionariesAndCannibals \n",
    "from node_and_search import SearchAlgorithm\n",
    "\n",
    "init_state = [[0, 0], 'r', [3, 3]] \n",
    "goal_state = [[3, 3], 'l', [0, 0]] \n",
    "\n",
    "mc = MissionariesAndCannibals(init_state, goal_state)\n",
    "sa = SearchAlgorithm(mc)\n",
    "print('DFS')\n",
    "print('Start state: ')\n",
    "mc.pretty_print()\n",
    "goal_node = sa.dfs(depth_limit=None,verbose=True, statistics=True)\n",
    "print('goal state: ')\n",
    "goal_node.state.pretty_print()\n",
    "goal_node.pretty_print_solution(True)\n",
    "\n",
    "\n"
   ]
  }
 ],
 "metadata": {
  "kernelspec": {
   "display_name": "Python 3",
   "language": "python",
   "name": "python3"
  },
  "language_info": {
   "codemirror_mode": {
    "name": "ipython",
    "version": 3
   },
   "file_extension": ".py",
   "mimetype": "text/x-python",
   "name": "python",
   "nbconvert_exporter": "python",
   "pygments_lexer": "ipython3",
   "version": "3.10.6"
  },
  "orig_nbformat": 4
 },
 "nbformat": 4,
 "nbformat_minor": 2
}
